{
  "cells": [
    {
      "cell_type": "markdown",
      "id": "8d2f7d1c",
      "metadata": {
        "id": "8d2f7d1c"
      },
      "source": [
        "# K-Means Clustering\n"
      ]
    },
    {
      "cell_type": "code",
      "execution_count": null,
      "id": "e952de7a",
      "metadata": {
        "id": "e952de7a"
      },
      "outputs": [],
      "source": [
        "import numpy as np\n",
        "import pandas as pd\n",
        "from sklearn.cluster import KMeans\n",
        "from sklearn.decomposition import PCA\n",
        "from matplotlib import pyplot as plt\n",
        "from collections import Counter\n",
        "import seaborn as sns\n",
        "import os\n",
        "%matplotlib inline"
      ]
    },
    {
      "cell_type": "code",
      "execution_count": null,
      "id": "01acbab4",
      "metadata": {
        "id": "01acbab4"
      },
      "outputs": [],
      "source": [
        "from google.colab import files\n",
        "uploaded = files.upload()"
      ]
    },
    {
      "cell_type": "code",
      "source": [
        "import io\n",
        "df = pd.read_csv(io.BytesIO(uploaded['OnlineNewsPredition_Reduced.csv']))"
      ],
      "metadata": {
        "id": "AtJp0UcV6sQo"
      },
      "id": "AtJp0UcV6sQo",
      "execution_count": null,
      "outputs": []
    },
    {
      "cell_type": "code",
      "execution_count": null,
      "id": "37374def",
      "metadata": {
        "id": "37374def"
      },
      "outputs": [],
      "source": [
        "list(df.columns)"
      ]
    },
    {
      "cell_type": "code",
      "execution_count": null,
      "id": "d9c34619",
      "metadata": {
        "id": "d9c34619"
      },
      "outputs": [],
      "source": [
        "# Generate new data frame removing the sepcified variables\n",
        "\n",
        "df_num = df.drop([\"shares\"],axis = 1)\n",
        "list(df_num.columns)"
      ]
    },
    {
      "cell_type": "code",
      "execution_count": null,
      "id": "0510e973",
      "metadata": {
        "id": "0510e973"
      },
      "outputs": [],
      "source": [
        "sse = []\n",
        "k_rng = range(1,10)\n",
        "for k in k_rng:\n",
        "    km = KMeans(n_clusters=k)\n",
        "    km.fit(df_num)\n",
        "    sse.append(km.inertia_)"
      ]
    },
    {
      "cell_type": "code",
      "execution_count": null,
      "id": "cc7e8ab8",
      "metadata": {
        "id": "cc7e8ab8"
      },
      "outputs": [],
      "source": [
        "plt.xlabel('K')\n",
        "plt.ylabel('Sum of squared error')\n",
        "plt.plot(k_rng,sse)# Create a new dataframe to add the new cluster variable\n",
        "df_num1 = df_num"
      ]
    },
    {
      "cell_type": "code",
      "execution_count": null,
      "id": "50a2ac20",
      "metadata": {
        "id": "50a2ac20"
      },
      "outputs": [],
      "source": [
        "# create a KMeans object with k=4\n",
        "km = KMeans(n_clusters=4)\n",
        "\n",
        "# fit the KMeans object to the dataset assigning to y_predicted\n",
        "y_predicted = km.fit_predict(df_num)\n",
        "y_predicted"
      ]
    },
    {
      "cell_type": "code",
      "execution_count": null,
      "id": "87224ee6",
      "metadata": {
        "id": "87224ee6"
      },
      "outputs": [],
      "source": [
        "# Create a new dataframe to add the new cluster variable\n",
        "df_num_cluster = df_num"
      ]
    },
    {
      "cell_type": "code",
      "execution_count": null,
      "id": "65bb478e",
      "metadata": {
        "id": "65bb478e"
      },
      "outputs": [],
      "source": [
        "# Add the cluster value in new variable 'cluster' in the main dataset 'df1'\n",
        "\n",
        "df_num_cluster['cluster']=y_predicted\n",
        "df_num_cluster.head()"
      ]
    },
    {
      "cell_type": "code",
      "execution_count": null,
      "id": "97274a1c",
      "metadata": {
        "id": "97274a1c"
      },
      "outputs": [],
      "source": [
        "#gives predicted class labels (cluster) for each data point\n",
        "km.labels_"
      ]
    },
    {
      "cell_type": "markdown",
      "id": "c766ddcf",
      "metadata": {
        "id": "c766ddcf"
      },
      "source": [
        "### Check the total count of observation belongs to specific cluster\n"
      ]
    },
    {
      "cell_type": "code",
      "execution_count": null,
      "id": "52e883da",
      "metadata": {
        "id": "52e883da"
      },
      "outputs": [],
      "source": [
        "Counter(km.labels_)"
      ]
    },
    {
      "cell_type": "markdown",
      "source": [
        "# Analysing the underlying features in clusters"
      ],
      "metadata": {
        "id": "Ql3BRJbsLryo"
      },
      "id": "Ql3BRJbsLryo"
    },
    {
      "cell_type": "code",
      "source": [
        "# Fit the KMeans object to the dataset (assuming df_num is your dataset)\n",
        "k = 4\n",
        "km = KMeans(n_clusters=k, n_init=10) # we put n_init=10 to not change the centroids \n",
        "km.fit(df_num) "
      ],
      "metadata": {
        "id": "ZSv6ZwNDLHIh"
      },
      "id": "ZSv6ZwNDLHIh",
      "execution_count": null,
      "outputs": []
    },
    {
      "cell_type": "code",
      "source": [
        "# Extract the centroids\n",
        "centroids = km.cluster_centers_\n",
        "\n",
        "# Create a DataFrame with the centroids\n",
        "centroids_df = pd.DataFrame(centroids, columns=df_num.columns)\n"
      ],
      "metadata": {
        "id": "gb6NhINYLPib"
      },
      "id": "gb6NhINYLPib",
      "execution_count": null,
      "outputs": []
    },
    {
      "cell_type": "code",
      "source": [
        "print(\"Centroids:\")\n",
        "print(centroids_df)"
      ],
      "metadata": {
        "id": "4EDeCD7MLTR_"
      },
      "id": "4EDeCD7MLTR_",
      "execution_count": null,
      "outputs": []
    },
    {
      "cell_type": "code",
      "source": [
        "# Perform PCA to reduce dimensionality for visualization\n",
        "pca = PCA(n_components=2)\n",
        "reduced_data = pca.fit_transform(df_num)"
      ],
      "metadata": {
        "id": "4xJ6axl6LW-b"
      },
      "id": "4xJ6axl6LW-b",
      "execution_count": null,
      "outputs": []
    },
    {
      "cell_type": "markdown",
      "source": [
        "## Visualizing clusters"
      ],
      "metadata": {
        "id": "aEd9tXVFNsQE"
      },
      "id": "aEd9tXVFNsQE"
    },
    {
      "cell_type": "code",
      "source": [
        "# Create a DataFrame for reduced data and cluster labels\n",
        "results = pd.DataFrame(reduced_data, columns=['pca1', 'pca2'])\n",
        "results['cluster'] = km.labels_\n"
      ],
      "metadata": {
        "id": "3uy30alxLZsn"
      },
      "id": "3uy30alxLZsn",
      "execution_count": null,
      "outputs": []
    },
    {
      "cell_type": "code",
      "source": [
        "# Set the style and color palette\n",
        "sns.set(style=\"whitegrid\")\n",
        "color_palette = sns.color_palette(\"husl\", k)\n",
        "\n",
        "# Create a scatter plot with improved colors\n",
        "plt.figure(figsize=(10, 6))\n",
        "\n",
        "for i in range(k):\n",
        "    plt.scatter(\n",
        "        results[results['cluster'] == i]['pca1'],\n",
        "        results[results['cluster'] == i]['pca2'],\n",
        "        label=f'Cluster {i+1}',\n",
        "        c=[color_palette[i]],\n",
        "        alpha=0.6,\n",
        "        edgecolors='black',\n",
        "        linewidth=1\n",
        "    )\n",
        "\n",
        "# Add centroids to the scatter plot\n",
        "reduced_centroids = pca.transform(centroids)\n",
        "for i in range(k):\n",
        "    plt.scatter(reduced_centroids[i, 0], reduced_centroids[i, 1], marker='*', s=200, c=[color_palette[i]], label=f'Centroid {i+1}')\n",
        "\n",
        "plt.xlabel('PCA 1')\n",
        "plt.ylabel('PCA 2')\n",
        "plt.title('K-Means Clustering Visualization with PCA')\n",
        "plt.legend()\n",
        "plt.show()\n"
      ],
      "metadata": {
        "id": "To8F2RRyMkUR"
      },
      "id": "To8F2RRyMkUR",
      "execution_count": null,
      "outputs": []
    }
  ],
  "metadata": {
    "kernelspec": {
      "display_name": "Python 3 (ipykernel)",
      "language": "python",
      "name": "python3"
    },
    "language_info": {
      "codemirror_mode": {
        "name": "ipython",
        "version": 3
      },
      "file_extension": ".py",
      "mimetype": "text/x-python",
      "name": "python",
      "nbconvert_exporter": "python",
      "pygments_lexer": "ipython3",
      "version": "3.10.9"
    },
    "colab": {
      "provenance": []
    }
  },
  "nbformat": 4,
  "nbformat_minor": 5
}